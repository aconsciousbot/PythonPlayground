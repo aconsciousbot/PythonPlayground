{
 "cells": [
  {
   "cell_type": "code",
   "execution_count": 34,
   "metadata": {},
   "outputs": [],
   "source": [
    "from sklearn.datasets import load_iris\n",
    "from sklearn.preprocessing import MinMaxScaler\n",
    "import numpy as np\n",
    "import pandas as pd\n",
    "\n",
    "\n",
    "data = load_iris()\n",
    "X = data['data']\n",
    "y = data['target']\n",
    "\n",
    "# Scale the variables\n",
    "minmax = MinMaxScaler()\n",
    "X = minmax.fit_transform(X)"
   ]
  },
  {
   "cell_type": "code",
   "execution_count": 26,
   "metadata": {},
   "outputs": [],
   "source": [
    "class Model:\n",
    "    \"\"\"\n",
    "    class for a Model vector. holds the vector and its sublist\n",
    "    \"\"\"\n",
    "\n",
    "    def __init__(self, m_vector):\n",
    "        self.m_vector = m_vector\n",
    "        self.sublist = []\n",
    "    \n",
    "    def update_sublist(self, in_vector):\n",
    "        self.sublist.append(in_vector)"
   ]
  },
  {
   "cell_type": "code",
   "execution_count": 27,
   "metadata": {},
   "outputs": [],
   "source": [
    "def get_closest(in_vector, models):\n",
    "    \"\"\"\n",
    "    returns index of closest model vector, given an input vector (from X) and a list containing model vector classes\n",
    "    \"\"\"\n",
    "    closest = None\n",
    "    closest_distance = 1e10\n",
    "    for m_i, m in enumerate(models):\n",
    "        distance = np.sqrt(np.sum((in_vector-models[m_i].m_vector)**2))\n",
    "        if distance < closest_distance:\n",
    "            closest_distance = distance\n",
    "            closest = m_i\n",
    "    return closest"
   ]
  },
  {
   "cell_type": "code",
   "execution_count": 28,
   "metadata": {},
   "outputs": [
    {
     "name": "stdout",
     "output_type": "stream",
     "text": [
      "50\n",
      "100\n",
      "150\n",
      "200\n",
      "250\n",
      "300\n",
      "350\n",
      "400\n",
      "450\n"
     ]
    }
   ],
   "source": [
    "# set h (radius) to close to unity in the beginning and decrease linearly/non-linearly afterwards\n",
    "h = 1\n",
    "reduction_factor = 0.99\n",
    "\n",
    "\n",
    "# Randomly initialize M models, each of the same shape as X[0].\n",
    "M = 20\n",
    "models =[Model(np.random.random((X.shape[1]))) for i in range(M)]\n",
    "#print(models)\n",
    "\n",
    "\n",
    "iteration = 0\n",
    "while h > 0.01:\n",
    "    \n",
    "    # in each iteration, use 20 random samples from X (instead of all) to update model vectors \n",
    "    rand_indices = np.random.randint(0, X.shape[0], 20)\n",
    "    for index in rand_indices:\n",
    "      closest = get_closest(X[index], models)\n",
    "\n",
    "      for i, _i in enumerate(models):\n",
    "        distance = np.sqrt(np.sum((models[i].m_vector-models[closest].m_vector)**2))\n",
    "        if distance < h:\n",
    "          models[i].m_vector += h*(X[index]-models[i].m_vector)\n",
    "\n",
    "    h *= reduction_factor\n",
    "    iteration += 1\n",
    "    if iteration%50==0:\n",
    "        print(iteration)"
   ]
  },
  {
   "cell_type": "code",
   "execution_count": 37,
   "metadata": {},
   "outputs": [],
   "source": [
    "models = [m for m in models if np.isnan(m.m_vector).sum()==0]"
   ]
  },
  {
   "cell_type": "code",
   "execution_count": 43,
   "metadata": {},
   "outputs": [
    {
     "data": {
      "text/plain": [
       "0    100\n",
       "5     50\n",
       "dtype: int64"
      ]
     },
     "execution_count": 43,
     "metadata": {},
     "output_type": "execute_result"
    }
   ],
   "source": [
    "temp=[get_closest(x_i, models) for x_i in X]\n",
    "pd.Series(temp).value_counts()"
   ]
  },
  {
   "cell_type": "code",
   "execution_count": 44,
   "metadata": {},
   "outputs": [
    {
     "name": "stdout",
     "output_type": "stream",
     "text": [
      "[0.05255573 0.03276265 0.08892567 0.10019668]\n"
     ]
    },
    {
     "data": {
      "text/plain": [
       "array([[0.03356142, 0.01903056, 0.0193842 , 0.03101111],\n",
       "       [0.00939537, 0.02444722, 0.00084907, 0.00188958]])"
      ]
     },
     "execution_count": 44,
     "metadata": {},
     "output_type": "execute_result"
    }
   ],
   "source": [
    "print(X.var(axis=0))\n",
    "np.array([X[np.array(temp) == i].var(axis = 0).tolist() for i in np.unique(temp)])"
   ]
  },
  {
   "cell_type": "code",
   "execution_count": 45,
   "metadata": {},
   "outputs": [
    {
     "data": {
      "text/plain": [
       "<matplotlib.legend.Legend at 0x273ab746978>"
      ]
     },
     "execution_count": 45,
     "metadata": {},
     "output_type": "execute_result"
    },
    {
     "data": {
      "image/png": "[encoded data removed]",
      "text/plain": [
       "<Figure size 432x288 with 1 Axes>"
      ]
     },
     "metadata": {
      "needs_background": "light"
     },
     "output_type": "display_data"
    }
   ],
   "source": [
    "import matplotlib.pyplot as plt\n",
    "from collections import defaultdict\n",
    "\n",
    "temp=defaultdict(list)\n",
    "for x_i in X:\n",
    "  temp[get_closest(x_i, models)].append(x_i)\n",
    "\n",
    "plt.figure()\n",
    "for i in temp:\n",
    "  t = np.array(temp[i])\n",
    "  plt.scatter(t[:, 0], t[:, 3], label = i)\n",
    "\n",
    "plt.legend()"
   ]
  },
  {
   "cell_type": "code",
   "execution_count": null,
   "metadata": {},
   "outputs": [],
   "source": []
  }
 ],
 "metadata": {
  "kernelspec": {
   "display_name": "Python 3",
   "language": "python",
   "name": "python3"
  },
  "language_info": {
   "codemirror_mode": {
    "name": "ipython",
    "version": 3
   },
   "file_extension": ".py",
   "mimetype": "text/x-python",
   "name": "python",
   "nbconvert_exporter": "python",
   "pygments_lexer": "ipython3",
   "version": "3.6.6"
  }
 },
 "nbformat": 4,
 "nbformat_minor": 2
}
